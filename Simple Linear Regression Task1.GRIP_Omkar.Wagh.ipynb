Name: Omkar Baliram Wagh


 "cells": [
  {
   "cell_type": "markdown",
   "metadata": {},
   "source": [
    "# Task 1 - Prediction Using Supervised Machine Learning"
   ]
  },
  {
   "cell_type": "markdown",
   "metadata": {},
   "source": [
    "Q1. Predict the percentage of the student on the basis of number of hours studied by the student.\n",
    "\n",
    "Q2. What will be predicted score if a student studies for 9.25 hrs/ day?"
   ]
  },
  {
   "cell_type": "markdown",
   "metadata": {},
   "source": [
    "# Step1 - Importing and checking data"
   ]
  },
  {
   "cell_type": "code",
   "execution_count": 1,
   "metadata": {},
   "outputs": [],
   "source": [
    "# Importing libraries \n",
    "import pandas as pd \n",
    "import numpy as np \n",
    "import matplotlib.pyplot as plt  \n",
    "%matplotlib inline"
   ]
  },
  {
   "cell_type": "code",
   "execution_count": 2,
   "metadata": {},
   "outputs": [
    {
     "data": {
      "text/html": [
       "<div>\n",
       "<style scoped>\n",
       "    .dataframe tbody tr th:only-of-type {\n",
       "        vertical-align: middle;\n",
       "    }\n",
       "\n",
       "    .dataframe tbody tr th {\n",
       "        vertical-align: top;\n",
       "    }\n",
       "\n",
       "    .dataframe thead th {\n",
       "        text-align: right;\n",
       "    }\n",
       "</style>\n",
       "<table border=\"1\" class=\"dataframe\">\n",
       "  <thead>\n",
       "    <tr style=\"text-align: right;\">\n",
       "      <th></th>\n",
       "      <th>Hours</th>\n",
       "      <th>Scores</th>\n",
       "    </tr>\n",
       "  </thead>\n",
       "  <tbody>\n",
       "    <tr>\n",
       "      <th>0</th>\n",
       "      <td>2.5</td>\n",
       "      <td>21</td>\n",
       "    </tr>\n",
       "    <tr>\n",
       "      <th>1</th>\n",
       "      <td>5.1</td>\n",
       "      <td>47</td>\n",
       "    </tr>\n",
       "    <tr>\n",
       "      <th>2</th>\n",
       "      <td>3.2</td>\n",
       "      <td>27</td>\n",
       "    </tr>\n",
       "    <tr>\n",
       "      <th>3</th>\n",
       "      <td>8.5</td>\n",
       "      <td>75</td>\n",
       "    </tr>\n",
       "    <tr>\n",
       "      <th>4</th>\n",
       "      <td>3.5</td>\n",
       "      <td>30</td>\n",
       "    </tr>\n",
       "  </tbody>\n",
       "</table>\n",
       "</div>"
      ],
      "text/plain": [
       "   Hours  Scores\n",
       "0    2.5      21\n",
       "1    5.1      47\n",
       "2    3.2      27\n",
       "3    8.5      75\n",
       "4    3.5      30"
      ]
     },
     "execution_count": 2,
     "metadata": {},
     "output_type": "execute_result"
    }
   ],
   "source": [
    "# Reading data from remote link\n",
    "url = \"http://bit.ly/w-data\"\n",
    "data=pd.read_csv(url)\n",
    "data.head(5)\n"
   ]
  },
  {
   "cell_type": "code",
   "execution_count": 3,
   "metadata": {},
   "outputs": [
    {
     "data": {
      "text/plain": [
       "(25, 2)"
      ]
     },
     "execution_count": 3,
     "metadata": {},
     "output_type": "execute_result"
    }
   ],
   "source": [
    "data.shape"
   ]
  },
  {
   "cell_type": "code",
   "execution_count": 4,
   "metadata": {},
   "outputs": [
    {
     "data": {
      "text/plain": [
       "Hours     float64\n",
       "Scores      int64\n",
       "dtype: object"
      ]
     },
     "execution_count": 4,
     "metadata": {},
     "output_type": "execute_result"
    }
   ],
   "source": [
    "data.dtypes"
   ]
  },
  {
   "cell_type": "code",
   "execution_count": 5,
   "metadata": {},
   "outputs": [
    {
     "data": {
      "text/plain": [
       "Hours     0\n",
       "Scores    0\n",
       "dtype: int64"
      ]
     },
     "execution_count": 5,
     "metadata": {},
     "output_type": "execute_result"
    }
   ],
   "source": [
    "data.isnull().sum()"
   ]
  },
  {
   "cell_type": "markdown",
   "metadata": {},
   "source": [
    "# Step2 - Data Visualization"
   ]
  },
  {
   "cell_type": "code",
   "execution_count": 6,
   "metadata": {},
   "outputs": [
    {
     "data": {
      "image/png": "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\n",
      "text/plain": [
       "<Figure size 432x288 with 1 Axes>"
      ]
     },
     "metadata": {
      "needs_background": "light"
     },
     "output_type": "display_data"
    }
   ],
   "source": [
    "# Plotting the dataset(Scatter Plot)\n",
    "data.plot(x=\"Hours\",y=\"Scores\",style=\"o\",markersize=10)\n",
    "plt.title('Hours Vs Scores')\n",
    "plt.xlabel('Hours Studied')\n",
    "plt.ylabel('Percentage Score')\n",
    "plt.grid()\n",
    "plt.show()"
   ]
  },
  {
   "cell_type": "markdown",
   "metadata": {},
   "source": [
    "From the above graph between number of \"Hours\" and the \"Percentage score\", We can clearly observe that their is a linear relationship between them, also here we have only two variables So, we are using the simple Linear Regression Supervised machine learning model on it to predict the output.\n",
    "\n"
   ]
  },
  {
   "cell_type": "markdown",
   "metadata": {},
   "source": [
    "# Step 3 - Data Preperatio"
   ]
  },
  {
   "cell_type": "markdown",
   "metadata": {},
   "source": [
    "We are separationg the dataset into \"attributes\" (inputs) and \"labels\" (outputs). After that we will split the whole dataset into two Parts - Training dataset and Testing dataset."
   ]
  },
  {
   "cell_type": "code",
   "execution_count": 9,
   "metadata": {},
   "outputs": [],
   "source": [
    "X = data.iloc[:, :-1].values\n",
    "y = data.iloc[:, -1].values"
   ]
  },
  {
   "cell_type": "code",
   "execution_count": 10,
   "metadata": {},
   "outputs": [],
   "source": [
    "#Splitting the dataset into the Training set and Test set\n",
    "from sklearn.model_selection import train_test_split\n",
    "X_train, X_test, y_train, y_test = train_test_split(X, y, test_size = 1/3, random_state = 0)"
   ]
  },
  {
   "cell_type": "markdown",
   "metadata": {},
   "source": [
    "# Step 4 - Training the Simple Linear Regression model on the Training set\n"
   ]
  },
  {
   "cell_type": "code",
   "execution_count": 13,
   "metadata": {},
   "outputs": [
    {
     "data": {
      "text/plain": [
       "LinearRegression()"
      ]
     },
     "execution_count": 13,
     "metadata": {},
     "output_type": "execute_result"
    }
   ],
   "source": [
    "from sklearn.linear_model import LinearRegression\n",
    "regressor = LinearRegression()\n",
    "regressor.fit(X_train, y_train)"
   ]
  },
  {
   "cell_type": "markdown",
   "metadata": {},
   "source": [
    "# Step5 - Visualizing the results"
   ]
  },
  {
   "cell_type": "code",
   "execution_count": 14,
   "metadata": {},
   "outputs": [
    {
     "data": {
      "image/png": "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\n",
      "text/plain": [
       "<Figure size 432x288 with 1 Axes>"
      ]
     },
     "metadata": {
      "needs_background": "light"
     },
     "output_type": "display_data"
    }
   ],
   "source": [
    "# Visualising the Training set results\n",
    "plt.scatter(X_train, y_train, color = 'red')\n",
    "plt.plot(X_train, regressor.predict(X_train), color = 'blue')\n",
    "plt.title('Scores vs Hours (Training set)')\n",
    "plt.xlabel('No of Hours')\n",
    "plt.ylabel('Scores')\n",
    "plt.show()"
   ]
  },
  {
   "cell_type": "code",
   "execution_count": 15,
   "metadata": {},
   "outputs": [
    {
     "data": {
      "image/png": "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\n",
      "text/plain": [
       "<Figure size 432x288 with 1 Axes>"
      ]
     },
     "metadata": {
      "needs_background": "light"
     },
     "output_type": "display_data"
    }
   ],
   "source": [
    "# Visualising the Test set results\n",
    "plt.scatter(X_test, y_test, color = 'red')\n",
    "plt.plot(X_train, regressor.predict(X_train), color = 'blue')\n",
    "plt.title('Scores vs Hours  (Test set)')\n",
    "plt.xlabel('No of Hours')\n",
    "plt.ylabel('Scores')\n",
    "plt.show()"
   ]
  },
  {
   "cell_type": "markdown",
   "metadata": {},
   "source": [
    "# Step6 - predicting the results"
   ]
  },
  {
   "cell_type": "code",
   "execution_count": 16,
   "metadata": {},
   "outputs": [],
   "source": [
    "# Predicting the Test set results\n",
    "y_pred = regressor.predict(X_test)"
   ]
  },
  {
   "cell_type": "code",
   "execution_count": 17,
   "metadata": {},
   "outputs": [
    {
     "data": {
      "text/html": [
       "<div>\n",
       "<style scoped>\n",
       "    .dataframe tbody tr th:only-of-type {\n",
       "        vertical-align: middle;\n",
       "    }\n",
       "\n",
       "    .dataframe tbody tr th {\n",
       "        vertical-align: top;\n",
       "    }\n",
       "\n",
       "    .dataframe thead th {\n",
       "        text-align: right;\n",
       "    }\n",
       "</style>\n",
       "<table border=\"1\" class=\"dataframe\">\n",
       "  <thead>\n",
       "    <tr style=\"text-align: right;\">\n",
       "      <th></th>\n",
       "      <th>Predicted Score</th>\n",
       "      <th>Actual Score</th>\n",
       "    </tr>\n",
       "  </thead>\n",
       "  <tbody>\n",
       "    <tr>\n",
       "      <th>0</th>\n",
       "      <td>17.042892</td>\n",
       "      <td>20</td>\n",
       "    </tr>\n",
       "    <tr>\n",
       "      <th>1</th>\n",
       "      <td>33.516954</td>\n",
       "      <td>27</td>\n",
       "    </tr>\n",
       "    <tr>\n",
       "      <th>2</th>\n",
       "      <td>74.217577</td>\n",
       "      <td>69</td>\n",
       "    </tr>\n",
       "    <tr>\n",
       "      <th>3</th>\n",
       "      <td>26.733516</td>\n",
       "      <td>30</td>\n",
       "    </tr>\n",
       "    <tr>\n",
       "      <th>4</th>\n",
       "      <td>59.681640</td>\n",
       "      <td>62</td>\n",
       "    </tr>\n",
       "    <tr>\n",
       "      <th>5</th>\n",
       "      <td>39.331329</td>\n",
       "      <td>35</td>\n",
       "    </tr>\n",
       "    <tr>\n",
       "      <th>6</th>\n",
       "      <td>20.919142</td>\n",
       "      <td>24</td>\n",
       "    </tr>\n",
       "    <tr>\n",
       "      <th>7</th>\n",
       "      <td>78.093827</td>\n",
       "      <td>86</td>\n",
       "    </tr>\n",
       "    <tr>\n",
       "      <th>8</th>\n",
       "      <td>69.372265</td>\n",
       "      <td>76</td>\n",
       "    </tr>\n",
       "  </tbody>\n",
       "</table>\n",
       "</div>"
      ],
      "text/plain": [
       "   Predicted Score  Actual Score\n",
       "0        17.042892            20\n",
       "1        33.516954            27\n",
       "2        74.217577            69\n",
       "3        26.733516            30\n",
       "4        59.681640            62\n",
       "5        39.331329            35\n",
       "6        20.919142            24\n",
       "7        78.093827            86\n",
       "8        69.372265            76"
      ]
     },
     "execution_count": 17,
     "metadata": {},
     "output_type": "execute_result"
    }
   ],
   "source": [
    "#Now Comparing the Predicted Score with Actual Score\n",
    "df= pd.DataFrame({'Predicted Score': y_pred, 'Actual Score': y_test})\n",
    "df"
   ]
  },
  {
   "cell_type": "code",
   "execution_count": 18,
   "metadata": {},
   "outputs": [
    {
     "name": "stdout",
     "output_type": "stream",
     "text": [
      "[92.14523315]\n"
     ]
    }
   ],
   "source": [
    "print(regressor.predict([[9.25]]))"
   ]
  },
  {
   "cell_type": "markdown",
   "metadata": {},
   "source": [
    "Therefore, our model predicts that the predicted score for student studied 9.25 hr/day will be 92.14523314523314 "
   ]
  },
  {
   "cell_type": "markdown",
   "metadata": {},
   "source": [
    "# Step - 7 Evaluation of the Model"
   ]
  },
  {
   "cell_type": "code",
   "execution_count": 19,
   "metadata": {},
   "outputs": [
    {
     "name": "stdout",
     "output_type": "stream",
     "text": [
      "Mean Absolute Error: 4.6913974413974415\n"
     ]
    }
   ],
   "source": [
    "from sklearn import metrics  \n",
    "print('Mean Absolute Error:', metrics.mean_absolute_error(y_test, y_pred))"
   ]
  },
  {
   "cell_type": "markdown",
   "metadata": {},
   "source": [
    "# Getting the final linear regression equation with the values of the coefficients"
   ]
  },
  {
   "cell_type": "code",
   "execution_count": 20,
   "metadata": {},
   "outputs": [
    {
     "name": "stdout",
     "output_type": "stream",
     "text": [
      "[9.69062469]\n",
      "2.5069547569547694\n"
     ]
    }
   ],
   "source": [
    "print(regressor.coef_)\n",
    "print(regressor.intercept_)"
   ]
  },
  {
   "cell_type": "markdown",
   "metadata": {},
   "source": [
    "Therefore, the equation of our simple linear regression model is:\n",
    "\n",
    "                     Scores = 9.69062469×(No of Hours) +2.5069547569547623"
   ]
  }
 ],
 "metadata": {
  "kernelspec": {
   "display_name": "Python 3",
   "language": "python",
   "name": "python3"
  },
  "language_info": {
   "codemirror_mode": {
    "name": "ipython",
    "version": 3
   },
   "file_extension": ".py",
   "mimetype": "text/x-python",
   "name": "python",
   "nbconvert_exporter": "python",
   "pygments_lexer": "ipython3",
   "version": "3.8.3"
  }
 },
 "nbformat": 4,
 "nbformat_minor": 4
}
